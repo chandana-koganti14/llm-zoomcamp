{
 "cells": [
  {
   "cell_type": "code",
   "execution_count": 1,
   "id": "143f4cc1-ef41-4f44-b4a1-4e787500b891",
   "metadata": {},
   "outputs": [],
   "source": [
    "import pandas as pd\n",
    "github_url = 'https://github.com/DataTalksClub/llm-zoomcamp/blob/main/04-monitoring/data/results-gpt4o-mini.csv'\n",
    "url = f'{github_url}?raw=1'\n",
    "df = pd.read_csv(url)\n"
   ]
  },
  {
   "cell_type": "code",
   "execution_count": 2,
   "id": "5ced1b9f-4958-485a-82ed-853ceb6a7093",
   "metadata": {},
   "outputs": [],
   "source": [
    "df = df.iloc[:300]"
   ]
  },
  {
   "cell_type": "code",
   "execution_count": 3,
   "id": "a2d4f0a3-1648-4e84-9f46-545c254c8107",
   "metadata": {},
   "outputs": [
    {
     "name": "stdout",
     "output_type": "stream",
     "text": [
      "Requirement already satisfied: sentence-transformers in /usr/local/python/3.10.13/lib/python3.10/site-packages (3.0.1)\n",
      "Requirement already satisfied: transformers<5.0.0,>=4.34.0 in /usr/local/python/3.10.13/lib/python3.10/site-packages (from sentence-transformers) (4.43.3)\n",
      "Requirement already satisfied: tqdm in /usr/local/python/3.10.13/lib/python3.10/site-packages (from sentence-transformers) (4.66.4)\n",
      "Requirement already satisfied: torch>=1.11.0 in /home/codespace/.local/lib/python3.10/site-packages (from sentence-transformers) (2.3.1+cpu)\n",
      "Requirement already satisfied: numpy in /home/codespace/.local/lib/python3.10/site-packages (from sentence-transformers) (2.0.0)\n",
      "Requirement already satisfied: scikit-learn in /home/codespace/.local/lib/python3.10/site-packages (from sentence-transformers) (1.5.1)\n",
      "Requirement already satisfied: scipy in /home/codespace/.local/lib/python3.10/site-packages (from sentence-transformers) (1.14.0)\n",
      "Requirement already satisfied: huggingface-hub>=0.15.1 in /usr/local/python/3.10.13/lib/python3.10/site-packages (from sentence-transformers) (0.24.2)\n",
      "Requirement already satisfied: Pillow in /home/codespace/.local/lib/python3.10/site-packages (from sentence-transformers) (10.4.0)\n",
      "Requirement already satisfied: filelock in /home/codespace/.local/lib/python3.10/site-packages (from huggingface-hub>=0.15.1->sentence-transformers) (3.15.4)\n",
      "Requirement already satisfied: fsspec>=2023.5.0 in /home/codespace/.local/lib/python3.10/site-packages (from huggingface-hub>=0.15.1->sentence-transformers) (2024.6.1)\n",
      "Requirement already satisfied: packaging>=20.9 in /home/codespace/.local/lib/python3.10/site-packages (from huggingface-hub>=0.15.1->sentence-transformers) (24.1)\n",
      "Requirement already satisfied: pyyaml>=5.1 in /home/codespace/.local/lib/python3.10/site-packages (from huggingface-hub>=0.15.1->sentence-transformers) (6.0.1)\n",
      "Requirement already satisfied: requests in /home/codespace/.local/lib/python3.10/site-packages (from huggingface-hub>=0.15.1->sentence-transformers) (2.32.3)\n",
      "Requirement already satisfied: typing-extensions>=3.7.4.3 in /home/codespace/.local/lib/python3.10/site-packages (from huggingface-hub>=0.15.1->sentence-transformers) (4.12.2)\n",
      "Requirement already satisfied: sympy in /home/codespace/.local/lib/python3.10/site-packages (from torch>=1.11.0->sentence-transformers) (1.13.0)\n",
      "Requirement already satisfied: networkx in /home/codespace/.local/lib/python3.10/site-packages (from torch>=1.11.0->sentence-transformers) (3.3)\n",
      "Requirement already satisfied: jinja2 in /home/codespace/.local/lib/python3.10/site-packages (from torch>=1.11.0->sentence-transformers) (3.1.4)\n",
      "Requirement already satisfied: regex!=2019.12.17 in /usr/local/python/3.10.13/lib/python3.10/site-packages (from transformers<5.0.0,>=4.34.0->sentence-transformers) (2024.7.24)\n",
      "Requirement already satisfied: safetensors>=0.4.1 in /usr/local/python/3.10.13/lib/python3.10/site-packages (from transformers<5.0.0,>=4.34.0->sentence-transformers) (0.4.3)\n",
      "Requirement already satisfied: tokenizers<0.20,>=0.19 in /usr/local/python/3.10.13/lib/python3.10/site-packages (from transformers<5.0.0,>=4.34.0->sentence-transformers) (0.19.1)\n",
      "Requirement already satisfied: joblib>=1.2.0 in /home/codespace/.local/lib/python3.10/site-packages (from scikit-learn->sentence-transformers) (1.4.2)\n",
      "Requirement already satisfied: threadpoolctl>=3.1.0 in /home/codespace/.local/lib/python3.10/site-packages (from scikit-learn->sentence-transformers) (3.5.0)\n",
      "Requirement already satisfied: MarkupSafe>=2.0 in /home/codespace/.local/lib/python3.10/site-packages (from jinja2->torch>=1.11.0->sentence-transformers) (2.1.5)\n",
      "Requirement already satisfied: charset-normalizer<4,>=2 in /home/codespace/.local/lib/python3.10/site-packages (from requests->huggingface-hub>=0.15.1->sentence-transformers) (3.3.2)\n",
      "Requirement already satisfied: idna<4,>=2.5 in /home/codespace/.local/lib/python3.10/site-packages (from requests->huggingface-hub>=0.15.1->sentence-transformers) (3.7)\n",
      "Requirement already satisfied: urllib3<3,>=1.21.1 in /usr/local/python/3.10.13/lib/python3.10/site-packages (from requests->huggingface-hub>=0.15.1->sentence-transformers) (2.0.7)\n",
      "Requirement already satisfied: certifi>=2017.4.17 in /home/codespace/.local/lib/python3.10/site-packages (from requests->huggingface-hub>=0.15.1->sentence-transformers) (2024.7.4)\n",
      "Requirement already satisfied: mpmath<1.4,>=1.1.0 in /home/codespace/.local/lib/python3.10/site-packages (from sympy->torch>=1.11.0->sentence-transformers) (1.3.0)\n",
      "Note: you may need to restart the kernel to use updated packages.\n"
     ]
    }
   ],
   "source": [
    "pip install sentence-transformers\n"
   ]
  },
  {
   "cell_type": "code",
   "execution_count": 3,
   "id": "6b0ca1db-796e-41f7-9398-b802f3201efb",
   "metadata": {},
   "outputs": [
    {
     "name": "stderr",
     "output_type": "stream",
     "text": [
      "/usr/local/python/3.10.13/lib/python3.10/site-packages/sentence_transformers/cross_encoder/CrossEncoder.py:11: TqdmWarning: IProgress not found. Please update jupyter and ipywidgets. See https://ipywidgets.readthedocs.io/en/stable/user_install.html\n",
      "  from tqdm.autonotebook import tqdm, trange\n"
     ]
    }
   ],
   "source": [
    "from sentence_transformers import SentenceTransformer\n"
   ]
  },
  {
   "cell_type": "code",
   "execution_count": 4,
   "id": "8c89008d-d702-4aee-8f39-93b237107543",
   "metadata": {},
   "outputs": [],
   "source": [
    "model_name = 'multi-qa-mpnet-base-dot-v1'\n",
    "embedding_model = SentenceTransformer(model_name)\n"
   ]
  },
  {
   "cell_type": "code",
   "execution_count": 5,
   "id": "9fab91cf-5237-4375-9332-24547e4e5018",
   "metadata": {},
   "outputs": [
    {
     "name": "stdout",
     "output_type": "stream",
     "text": [
      "-0.42244655\n"
     ]
    }
   ],
   "source": [
    "answer_llm = df.iloc[0].answer_llm\n",
    "embeddings = embedding_model.encode(answer_llm)\n",
    "first_value = embeddings[0]\n",
    "print(first_value)"
   ]
  },
  {
   "cell_type": "code",
   "execution_count": 6,
   "id": "e5a20756-4175-4275-9681-9d89c5c112d4",
   "metadata": {},
   "outputs": [
    {
     "data": {
      "text/plain": [
       "np.float32(31.674309)"
      ]
     },
     "execution_count": 6,
     "metadata": {},
     "output_type": "execute_result"
    }
   ],
   "source": [
    "import numpy as np\n",
    "def dot_product(a, b):\n",
    "    return np.dot(a, b)\n",
    "scores = []\n",
    "for i, row in df.iterrows():\n",
    "    answer_llm = row['answer_llm']\n",
    "    answer_rag = row['answer_orig']\n",
    "    \n",
    "    embedding_llm = embedding_model.encode(answer_llm)\n",
    "    embedding_rag = embedding_model.encode(answer_rag)\n",
    "    \n",
    "    score = dot_product(embedding_llm, embedding_rag)\n",
    "    scores.append(score)\n",
    "percentile_75 = np.percentile(scores, 75)\n",
    "percentile_75"
   ]
  },
  {
   "cell_type": "code",
   "execution_count": 7,
   "id": "9b9fea49-3fdd-4804-b908-7335a378d055",
   "metadata": {},
   "outputs": [
    {
     "name": "stdout",
     "output_type": "stream",
     "text": [
      "31.674309\n"
     ]
    }
   ],
   "source": [
    "print(percentile_75)"
   ]
  },
  {
   "cell_type": "code",
   "execution_count": 8,
   "id": "9e375d28-9ef0-4b25-ac1b-e12881a5f67b",
   "metadata": {},
   "outputs": [
    {
     "name": "stdout",
     "output_type": "stream",
     "text": [
      "Index(['answer_llm', 'answer_orig', 'document', 'question', 'course'], dtype='object')\n",
      "                                          answer_llm  \\\n",
      "0  You can sign up for the course by visiting the...   \n",
      "1  You can sign up using the link provided in the...   \n",
      "2  Yes, there is an FAQ for the Machine Learning ...   \n",
      "3  The context does not provide any specific info...   \n",
      "4  To structure your questions and answers for th...   \n",
      "\n",
      "                                         answer_orig  document  \\\n",
      "0  Machine Learning Zoomcamp FAQ\\nThe purpose of ...  0227b872   \n",
      "1  Machine Learning Zoomcamp FAQ\\nThe purpose of ...  0227b872   \n",
      "2  Machine Learning Zoomcamp FAQ\\nThe purpose of ...  0227b872   \n",
      "3  Machine Learning Zoomcamp FAQ\\nThe purpose of ...  0227b872   \n",
      "4  Machine Learning Zoomcamp FAQ\\nThe purpose of ...  0227b872   \n",
      "\n",
      "                                            question  \\\n",
      "0                Where can I sign up for the course?   \n",
      "1                 Can you provide a link to sign up?   \n",
      "2  Is there an FAQ for this Machine Learning course?   \n",
      "3  Does this course have a GitHub repository for ...   \n",
      "4  How can I structure my questions and answers f...   \n",
      "\n",
      "                      course  \n",
      "0  machine-learning-zoomcamp  \n",
      "1  machine-learning-zoomcamp  \n",
      "2  machine-learning-zoomcamp  \n",
      "3  machine-learning-zoomcamp  \n",
      "4  machine-learning-zoomcamp  \n"
     ]
    }
   ],
   "source": [
    "print(df.columns)  \n",
    "print(df.head())   \n"
   ]
  },
  {
   "cell_type": "code",
   "execution_count": 9,
   "id": "373e63a4-daed-4f00-b5b1-0c58919d6d17",
   "metadata": {},
   "outputs": [
    {
     "name": "stdout",
     "output_type": "stream",
     "text": [
      "The 75th percentile of the cosine similarity scores is: 0.8362349271774292\n"
     ]
    }
   ],
   "source": [
    "import numpy as np\n",
    "\n",
    "def normalize_vector(v):\n",
    "    norm = np.sqrt(np.sum(v * v))\n",
    "    if norm == 0:\n",
    "        return v\n",
    "    return v / norm\n",
    "\n",
    "def dot_product(a, b):\n",
    "    return np.dot(a, b)\n",
    "cosine_scores = []\n",
    "\n",
    "for i, row in df.iterrows():\n",
    "    answer_llm = row['answer_llm']\n",
    "    if 'answer_orig' not in row or pd.isna(row['answer_orig']):\n",
    "        continue\n",
    "    \n",
    "    answer_rag = row['answer_orig']\n",
    "    embedding_llm = embedding_model.encode(answer_llm)\n",
    "    embedding_rag = embedding_model.encode(answer_rag)\n",
    "    embedding_llm_norm = normalize_vector(embedding_llm)\n",
    "    embedding_rag_norm = normalize_vector(embedding_rag)\n",
    "    score = dot_product(embedding_llm_norm, embedding_rag_norm)\n",
    "    cosine_scores.append(score)\n",
    "percentile_75 = np.percentile(cosine_scores, 75)\n",
    "print(f\"The 75th percentile of the cosine similarity scores is: {percentile_75}\")\n"
   ]
  },
  {
   "cell_type": "code",
   "execution_count": 10,
   "id": "b9bf7296-8e8d-4500-9501-deb80b91ff1c",
   "metadata": {},
   "outputs": [
    {
     "name": "stderr",
     "output_type": "stream",
     "text": [
      "huggingface/tokenizers: The current process just got forked, after parallelism has already been used. Disabling parallelism to avoid deadlocks...\n",
      "To disable this warning, you can either:\n",
      "\t- Avoid using `tokenizers` before the fork if possible\n",
      "\t- Explicitly set the environment variable TOKENIZERS_PARALLELISM=(true | false)\n"
     ]
    },
    {
     "name": "stdout",
     "output_type": "stream",
     "text": [
      "Requirement already satisfied: rouge in /usr/local/python/3.10.13/lib/python3.10/site-packages (1.0.1)\n",
      "Requirement already satisfied: six in /home/codespace/.local/lib/python3.10/site-packages (from rouge) (1.16.0)\n"
     ]
    }
   ],
   "source": [
    "!pip install rouge\n",
    "\n"
   ]
  },
  {
   "cell_type": "code",
   "execution_count": 11,
   "id": "d26aaa1c-0335-47d9-8afa-3a2d51275130",
   "metadata": {},
   "outputs": [],
   "source": [
    "from rouge import Rouge\n",
    "rouge_scorer = Rouge()\n",
    "r = df.loc[10]\n",
    "scores = rouge_scorer.get_scores(r['answer_llm'], r['answer_orig'])[0]\n"
   ]
  },
  {
   "cell_type": "code",
   "execution_count": 12,
   "id": "e736f290-f54b-42cc-8e5e-c2d58c085029",
   "metadata": {},
   "outputs": [
    {
     "name": "stdout",
     "output_type": "stream",
     "text": [
      "The F1 score for ROUGE-1 is: 0.45454544954545456\n"
     ]
    }
   ],
   "source": [
    "f1_rouge_1 = scores['rouge-1']['f']\n",
    "print(f\"The F1 score for ROUGE-1 is: {f1_rouge_1}\")"
   ]
  },
  {
   "cell_type": "code",
   "execution_count": 13,
   "id": "2d805a59-1e0d-4a8a-9442-5c3f0c137600",
   "metadata": {},
   "outputs": [
    {
     "name": "stdout",
     "output_type": "stream",
     "text": [
      "The average F1 score for ROUGE-1, ROUGE-2, and ROUGE-L is: 0.35490034990035496\n"
     ]
    }
   ],
   "source": [
    "f1_rouge_2 = scores['rouge-2']['f']\n",
    "f1_rouge_l = scores['rouge-l']['f']\n",
    "average_f1 = (f1_rouge_1 + f1_rouge_2 + f1_rouge_l) / 3\n",
    "print(f\"The average F1 score for ROUGE-1, ROUGE-2, and ROUGE-L is: {average_f1}\")"
   ]
  },
  {
   "cell_type": "code",
   "execution_count": 16,
   "id": "3d2008c4-fe3e-42b5-ab5a-acca793d0689",
   "metadata": {},
   "outputs": [],
   "source": [
    "rouge_1_scores = []\n",
    "rouge_2_scores = []\n",
    "rouge_l_scores = []\n",
    "rouge_1_scores.append(scores['rouge-1']['f'])\n",
    "rouge_2_scores.append(scores['rouge-2']['f'])\n",
    "rouge_l_scores.append(scores['rouge-l']['f'])"
   ]
  },
  {
   "cell_type": "code",
   "execution_count": 17,
   "id": "274a2348-2759-456a-89fe-6554fcda2926",
   "metadata": {},
   "outputs": [
    {
     "name": "stdout",
     "output_type": "stream",
     "text": [
      "The average ROUGE-2 score across all records is: 0.21621621121621637\n"
     ]
    }
   ],
   "source": [
    "rouge_df = pd.DataFrame({\n",
    "    'rouge-1': rouge_1_scores,\n",
    "    'rouge-2': rouge_2_scores,\n",
    "    'rouge-l': rouge_l_scores\n",
    "})\n",
    "average_rouge_2 = rouge_df['rouge-2'].mean()\n",
    "print(f\"The average ROUGE-2 score across all records is: {average_rouge_2}\")"
   ]
  },
  {
   "cell_type": "code",
   "execution_count": null,
   "id": "e9f9282e-1188-4cc2-bc0e-7ee0a7440d9e",
   "metadata": {},
   "outputs": [],
   "source": []
  }
 ],
 "metadata": {
  "kernelspec": {
   "display_name": "Python 3 (ipykernel)",
   "language": "python",
   "name": "python3"
  },
  "language_info": {
   "codemirror_mode": {
    "name": "ipython",
    "version": 3
   },
   "file_extension": ".py",
   "mimetype": "text/x-python",
   "name": "python",
   "nbconvert_exporter": "python",
   "pygments_lexer": "ipython3",
   "version": "3.10.13"
  }
 },
 "nbformat": 4,
 "nbformat_minor": 5
}
